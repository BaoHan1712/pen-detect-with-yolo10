{
  "nbformat": 4,
  "nbformat_minor": 0,
  "metadata": {
    "colab": {
      "private_outputs": true,
      "provenance": [],
      "gpuType": "T4"
    },
    "kernelspec": {
      "name": "python3",
      "display_name": "Python 3"
    },
    "language_info": {
      "name": "python"
    },
    "accelerator": "GPU"
  },
  "cells": [
    {
      "cell_type": "code",
      "execution_count": null,
      "metadata": {
        "id": "O8Ju-MIaSqD_"
      },
      "outputs": [],
      "source": [
        "!nvidia-smi\n"
      ]
    },
    {
      "cell_type": "code",
      "source": [
        "!pip install -q git+https://github.com/THU-MIG/yolov10.git"
      ],
      "metadata": {
        "id": "A_nn5A7rTWat"
      },
      "execution_count": null,
      "outputs": []
    },
    {
      "cell_type": "code",
      "source": [
        "!wget -P /content https://github.com/jameslahm/yolov10/releases/download/v1.0/yolov10n.pt\n"
      ],
      "metadata": {
        "id": "YLpWdyB6UaEv"
      },
      "execution_count": null,
      "outputs": []
    },
    {
      "cell_type": "code",
      "source": [
        "!mkdir -p {HOME}/weights\n",
        "!wget -P {HOME}/weights -q https://github.com/jameslahm/yolov10/releases/download/v1.0/yolov10n.pt\n",
        "!wget -P {HOME}/weights -q https://github.com/jameslahm/yolov10/releases/download/v1.0/yolov10s.pt\n",
        "!wget -P {HOME}/weights -q https://github.com/jameslahm/yolov10/releases/download/v1.0/yolov10m.pt\n",
        "!wget -P {HOME}/weights -q https://github.com/jameslahm/yolov10/releases/download/v1.0/yolov10b.pt\n",
        "!wget -P {HOME}/weights -q https://github.com/jameslahm/yolov10/releases/download/v1.0/yolov10x.pt\n",
        "!wget -P {HOME}/weights -q https://github.com/jameslahm/yolov10/releases/download/v1.0/yolov10l.pt\n",
        "!ls -lh {HOME}/weights"
      ],
      "metadata": {
        "id": "Q62eMIdVZaXe"
      },
      "execution_count": null,
      "outputs": []
    },
    {
      "cell_type": "code",
      "source": [
        "from ultralytics import YOLOv10\n",
        "%cd /content\n",
        "model_path = '/content/yolov10n.pt'\n",
        "model = YOLOv10(model_path)\n",
        "results = model(source='https://statics.vinwonders.com/ha-noi-36-pho-phuong-1_1689060313.jpg', conf=0.5,save=True)"
      ],
      "metadata": {
        "id": "8esJ4cGUUjWf"
      },
      "execution_count": null,
      "outputs": []
    },
    {
      "cell_type": "code",
      "source": [
        "!pip install roboflow\n",
        "\n",
        "from roboflow import Roboflow\n",
        "rf = Roboflow(api_key=\"oo6FHxGIY0onBusgjJve\")\n",
        "project = rf.workspace(\"blocksol\").project(\"pen-detection-ghnzr\")\n",
        "version = project.version(1)\n",
        "dataset = version.download(\"yolov8\")\n"
      ],
      "metadata": {
        "collapsed": true,
        "id": "5UswkRRUVxYF"
      },
      "execution_count": null,
      "outputs": []
    },
    {
      "cell_type": "code",
      "source": [
        "!yolo task=detect mode=train epochs=25 batch=32 plots=True \\\n",
        "model=/content/yolov10n.pt\\\n",
        "data=/content/Pen-Detection-1/data.yaml"
      ],
      "metadata": {
        "collapsed": true,
        "id": "fijo_lz6WVYD"
      },
      "execution_count": null,
      "outputs": []
    },
    {
      "cell_type": "code",
      "source": [
        "from ultralytics import YOLOv10\n",
        "%cd /content\n",
        "model_path = '/content/{HOME}/weights/best.pt'\n",
        "model = YOLOv10(model_path)\n",
        "results = model(source=\"/content/img1.jpg\", conf=0.25,save=True)\n",
        ""
      ],
      "metadata": {
        "id": "HY68zic8flfw"
      },
      "execution_count": null,
      "outputs": []
    }
  ]
}